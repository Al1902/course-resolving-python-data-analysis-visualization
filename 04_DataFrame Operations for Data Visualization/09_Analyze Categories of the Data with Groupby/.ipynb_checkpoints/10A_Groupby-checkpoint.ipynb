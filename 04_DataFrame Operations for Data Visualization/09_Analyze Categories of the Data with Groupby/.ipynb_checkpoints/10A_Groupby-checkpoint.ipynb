{
 "cells": [
  {
   "cell_type": "markdown",
   "id": "6b2601e3-fc05-409c-b039-1d812d03b131",
   "metadata": {},
   "source": [
    "# Analyze Categories of the Data with Groupby"
   ]
  },
  {
   "cell_type": "markdown",
   "id": "959c996b-bbc5-4653-9369-3c267d9f050a",
   "metadata": {},
   "source": [
    "## Load the data"
   ]
  },
  {
   "cell_type": "code",
   "execution_count": 1,
   "id": "3aee990d-1e64-4718-9572-1e7fe5dc32ed",
   "metadata": {},
   "outputs": [
    {
     "data": {
      "text/html": [
       "<div>\n",
       "<style scoped>\n",
       "    .dataframe tbody tr th:only-of-type {\n",
       "        vertical-align: middle;\n",
       "    }\n",
       "\n",
       "    .dataframe tbody tr th {\n",
       "        vertical-align: top;\n",
       "    }\n",
       "\n",
       "    .dataframe thead th {\n",
       "        text-align: right;\n",
       "    }\n",
       "</style>\n",
       "<table border=\"1\" class=\"dataframe\">\n",
       "  <thead>\n",
       "    <tr style=\"text-align: right;\">\n",
       "      <th></th>\n",
       "      <th>alive</th>\n",
       "      <th>class</th>\n",
       "      <th>sex</th>\n",
       "      <th>age</th>\n",
       "      <th>fare</th>\n",
       "    </tr>\n",
       "  </thead>\n",
       "  <tbody>\n",
       "    <tr>\n",
       "      <th>0</th>\n",
       "      <td>no</td>\n",
       "      <td>Third</td>\n",
       "      <td>male</td>\n",
       "      <td>22.0</td>\n",
       "      <td>7.2500</td>\n",
       "    </tr>\n",
       "    <tr>\n",
       "      <th>1</th>\n",
       "      <td>yes</td>\n",
       "      <td>First</td>\n",
       "      <td>female</td>\n",
       "      <td>38.0</td>\n",
       "      <td>71.2833</td>\n",
       "    </tr>\n",
       "    <tr>\n",
       "      <th>...</th>\n",
       "      <td>...</td>\n",
       "      <td>...</td>\n",
       "      <td>...</td>\n",
       "      <td>...</td>\n",
       "      <td>...</td>\n",
       "    </tr>\n",
       "    <tr>\n",
       "      <th>889</th>\n",
       "      <td>yes</td>\n",
       "      <td>First</td>\n",
       "      <td>male</td>\n",
       "      <td>26.0</td>\n",
       "      <td>30.0000</td>\n",
       "    </tr>\n",
       "    <tr>\n",
       "      <th>890</th>\n",
       "      <td>no</td>\n",
       "      <td>Third</td>\n",
       "      <td>male</td>\n",
       "      <td>32.0</td>\n",
       "      <td>7.7500</td>\n",
       "    </tr>\n",
       "  </tbody>\n",
       "</table>\n",
       "<p>891 rows × 5 columns</p>\n",
       "</div>"
      ],
      "text/plain": [
       "    alive  class     sex   age     fare\n",
       "0      no  Third    male  22.0   7.2500\n",
       "1     yes  First  female  38.0  71.2833\n",
       "..    ...    ...     ...   ...      ...\n",
       "889   yes  First    male  26.0  30.0000\n",
       "890    no  Third    male  32.0   7.7500\n",
       "\n",
       "[891 rows x 5 columns]"
      ]
     },
     "execution_count": 1,
     "metadata": {},
     "output_type": "execute_result"
    }
   ],
   "source": [
    "import seaborn as sns\n",
    "\n",
    "df_titanic = sns.load_dataset('titanic').loc[:,['alive', 'class', 'sex', 'age', 'fare']]\n",
    "df_titanic['class'] = df_titanic['class'].astype(str)\n",
    "df_titanic"
   ]
  },
  {
   "cell_type": "markdown",
   "id": "f11e1235-b437-4565-b649-0dcd728e778b",
   "metadata": {},
   "source": [
    "## Which was the maximum age of males and females in the Titanic?"
   ]
  },
  {
   "cell_type": "code",
   "execution_count": null,
   "id": "cb00fb24-781a-41bd-b05b-cf5258eb9327",
   "metadata": {},
   "outputs": [],
   "source": []
  },
  {
   "cell_type": "markdown",
   "id": "cd1a816d-2b25-4a3a-ab97-7e3a90fd1a87",
   "metadata": {},
   "source": [
    "## How the `groupby()` works?"
   ]
  },
  {
   "cell_type": "code",
   "execution_count": null,
   "id": "d0cb8408-c88b-4ec0-a67a-d229801fdbde",
   "metadata": {},
   "outputs": [],
   "source": []
  },
  {
   "cell_type": "markdown",
   "id": "ec554580-f77f-4da6-9313-3dca499b4a68",
   "metadata": {},
   "source": [
    "### Multiple DataFrames based on the categories"
   ]
  },
  {
   "cell_type": "code",
   "execution_count": null,
   "id": "243d85b8-3d4a-47dc-a627-5f4df197f3a7",
   "metadata": {},
   "outputs": [],
   "source": []
  },
  {
   "cell_type": "markdown",
   "id": "e7a4ecbb-21d7-48ca-8e98-7be2eeaf575c",
   "metadata": {},
   "source": [
    "### Mathematical operations altogether (Python one-liner)"
   ]
  },
  {
   "cell_type": "code",
   "execution_count": null,
   "id": "2257f41a-aa16-4011-baf8-eb8c052a288e",
   "metadata": {},
   "outputs": [],
   "source": []
  },
  {
   "cell_type": "markdown",
   "id": "46f8ed36-a4da-490e-b391-684038f9bb79",
   "metadata": {},
   "source": [
    "## Who paid more, on average, to go on the Titanic based on `class` and `sex`?"
   ]
  },
  {
   "cell_type": "code",
   "execution_count": null,
   "id": "ec4ee67a-4dc3-4619-b921-60189970ed04",
   "metadata": {},
   "outputs": [],
   "source": []
  },
  {
   "cell_type": "markdown",
   "id": "1214f266-2b4a-4be3-bf7c-9c6e5f6817c6",
   "metadata": {},
   "source": [
    "## Visualize the data"
   ]
  },
  {
   "cell_type": "code",
   "execution_count": null,
   "id": "f38f66e4-e014-4e8f-a2ba-f45eddc1fea8",
   "metadata": {},
   "outputs": [],
   "source": []
  },
  {
   "cell_type": "markdown",
   "id": "0b6476a9-045c-4945-b443-39cd093d2a20",
   "metadata": {},
   "source": [
    "## Get access to our Python Course for Data Visualization"
   ]
  },
  {
   "cell_type": "markdown",
   "id": "f85c19b5-4d36-4f04-8934-3edd3d76e14a",
   "metadata": {},
   "source": [
    "https://courses.resolvingpython.com/data-visualization"
   ]
  }
 ],
 "metadata": {
  "kernelspec": {
   "display_name": "Python 3 (ipykernel)",
   "language": "python",
   "name": "python3"
  },
  "language_info": {
   "codemirror_mode": {
    "name": "ipython",
    "version": 3
   },
   "file_extension": ".py",
   "mimetype": "text/x-python",
   "name": "python",
   "nbconvert_exporter": "python",
   "pygments_lexer": "ipython3",
   "version": "3.10.6"
  }
 },
 "nbformat": 4,
 "nbformat_minor": 5
}
