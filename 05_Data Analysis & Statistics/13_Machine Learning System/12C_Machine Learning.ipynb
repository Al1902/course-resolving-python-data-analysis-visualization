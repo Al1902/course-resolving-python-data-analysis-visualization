{
 "cells": [
  {
   "cell_type": "markdown",
   "id": "29778fd4-3b3c-485f-95a9-e7750bba38b0",
   "metadata": {},
   "source": [
    "# Introduction to Machine Learning\n",
    "\n",
    "- Use [this CheatSheet](https://www.craft.do/s/bj8CiGxswdNZl3/b/2CC9B9A0-7484-45FD-9097-52ED788D4925/The-Machine-Learning-System) to work better with the following exercises."
   ]
  },
  {
   "cell_type": "markdown",
   "id": "cea929c0-7c37-41cc-8fe2-4c40d9344890",
   "metadata": {},
   "source": [
    "## Load the data"
   ]
  },
  {
   "cell_type": "code",
   "execution_count": 1,
   "id": "d169a4a6-c0eb-4d3d-8259-d0dd9f80aca5",
   "metadata": {},
   "outputs": [],
   "source": [
    "import seaborn as sns"
   ]
  },
  {
   "cell_type": "code",
   "execution_count": 3,
   "id": "a68acda8-84d7-459d-b8da-0fa601ffe472",
   "metadata": {},
   "outputs": [
    {
     "data": {
      "text/plain": [
       "['anagrams',\n",
       " 'anscombe',\n",
       " 'attention',\n",
       " 'brain_networks',\n",
       " 'car_crashes',\n",
       " 'diamonds',\n",
       " 'dots',\n",
       " 'dowjones',\n",
       " 'exercise',\n",
       " 'flights',\n",
       " 'fmri',\n",
       " 'geyser',\n",
       " 'glue',\n",
       " 'healthexp',\n",
       " 'iris',\n",
       " 'mpg',\n",
       " 'penguins',\n",
       " 'planets',\n",
       " 'seaice',\n",
       " 'taxis',\n",
       " 'tips',\n",
       " 'titanic']"
      ]
     },
     "execution_count": 3,
     "metadata": {},
     "output_type": "execute_result"
    }
   ],
   "source": [
    "sns.get_dataset_names()"
   ]
  },
  {
   "cell_type": "markdown",
   "id": "2672655a-e835-4b78-9a1d-28268221d9ae",
   "metadata": {},
   "source": [
    "Load one of the datasets from the previous list"
   ]
  },
  {
   "cell_type": "code",
   "execution_count": 4,
   "id": "185f72af-3f34-49c2-a86a-395521ed2ace",
   "metadata": {},
   "outputs": [
    {
     "data": {
      "text/html": [
       "<div>\n",
       "<style scoped>\n",
       "    .dataframe tbody tr th:only-of-type {\n",
       "        vertical-align: middle;\n",
       "    }\n",
       "\n",
       "    .dataframe tbody tr th {\n",
       "        vertical-align: top;\n",
       "    }\n",
       "\n",
       "    .dataframe thead th {\n",
       "        text-align: right;\n",
       "    }\n",
       "</style>\n",
       "<table border=\"1\" class=\"dataframe\">\n",
       "  <thead>\n",
       "    <tr style=\"text-align: right;\">\n",
       "      <th></th>\n",
       "      <th>total_bill</th>\n",
       "      <th>tip</th>\n",
       "      <th>sex</th>\n",
       "      <th>smoker</th>\n",
       "      <th>day</th>\n",
       "      <th>time</th>\n",
       "      <th>size</th>\n",
       "    </tr>\n",
       "  </thead>\n",
       "  <tbody>\n",
       "    <tr>\n",
       "      <th>0</th>\n",
       "      <td>16.99</td>\n",
       "      <td>1.01</td>\n",
       "      <td>Female</td>\n",
       "      <td>No</td>\n",
       "      <td>Sun</td>\n",
       "      <td>Dinner</td>\n",
       "      <td>2</td>\n",
       "    </tr>\n",
       "    <tr>\n",
       "      <th>1</th>\n",
       "      <td>10.34</td>\n",
       "      <td>1.66</td>\n",
       "      <td>Male</td>\n",
       "      <td>No</td>\n",
       "      <td>Sun</td>\n",
       "      <td>Dinner</td>\n",
       "      <td>3</td>\n",
       "    </tr>\n",
       "    <tr>\n",
       "      <th>2</th>\n",
       "      <td>21.01</td>\n",
       "      <td>3.50</td>\n",
       "      <td>Male</td>\n",
       "      <td>No</td>\n",
       "      <td>Sun</td>\n",
       "      <td>Dinner</td>\n",
       "      <td>3</td>\n",
       "    </tr>\n",
       "    <tr>\n",
       "      <th>3</th>\n",
       "      <td>23.68</td>\n",
       "      <td>3.31</td>\n",
       "      <td>Male</td>\n",
       "      <td>No</td>\n",
       "      <td>Sun</td>\n",
       "      <td>Dinner</td>\n",
       "      <td>2</td>\n",
       "    </tr>\n",
       "    <tr>\n",
       "      <th>4</th>\n",
       "      <td>24.59</td>\n",
       "      <td>3.61</td>\n",
       "      <td>Female</td>\n",
       "      <td>No</td>\n",
       "      <td>Sun</td>\n",
       "      <td>Dinner</td>\n",
       "      <td>4</td>\n",
       "    </tr>\n",
       "    <tr>\n",
       "      <th>...</th>\n",
       "      <td>...</td>\n",
       "      <td>...</td>\n",
       "      <td>...</td>\n",
       "      <td>...</td>\n",
       "      <td>...</td>\n",
       "      <td>...</td>\n",
       "      <td>...</td>\n",
       "    </tr>\n",
       "    <tr>\n",
       "      <th>239</th>\n",
       "      <td>29.03</td>\n",
       "      <td>5.92</td>\n",
       "      <td>Male</td>\n",
       "      <td>No</td>\n",
       "      <td>Sat</td>\n",
       "      <td>Dinner</td>\n",
       "      <td>3</td>\n",
       "    </tr>\n",
       "    <tr>\n",
       "      <th>240</th>\n",
       "      <td>27.18</td>\n",
       "      <td>2.00</td>\n",
       "      <td>Female</td>\n",
       "      <td>Yes</td>\n",
       "      <td>Sat</td>\n",
       "      <td>Dinner</td>\n",
       "      <td>2</td>\n",
       "    </tr>\n",
       "    <tr>\n",
       "      <th>241</th>\n",
       "      <td>22.67</td>\n",
       "      <td>2.00</td>\n",
       "      <td>Male</td>\n",
       "      <td>Yes</td>\n",
       "      <td>Sat</td>\n",
       "      <td>Dinner</td>\n",
       "      <td>2</td>\n",
       "    </tr>\n",
       "    <tr>\n",
       "      <th>242</th>\n",
       "      <td>17.82</td>\n",
       "      <td>1.75</td>\n",
       "      <td>Male</td>\n",
       "      <td>No</td>\n",
       "      <td>Sat</td>\n",
       "      <td>Dinner</td>\n",
       "      <td>2</td>\n",
       "    </tr>\n",
       "    <tr>\n",
       "      <th>243</th>\n",
       "      <td>18.78</td>\n",
       "      <td>3.00</td>\n",
       "      <td>Female</td>\n",
       "      <td>No</td>\n",
       "      <td>Thur</td>\n",
       "      <td>Dinner</td>\n",
       "      <td>2</td>\n",
       "    </tr>\n",
       "  </tbody>\n",
       "</table>\n",
       "<p>244 rows × 7 columns</p>\n",
       "</div>"
      ],
      "text/plain": [
       "     total_bill   tip     sex smoker   day    time  size\n",
       "0         16.99  1.01  Female     No   Sun  Dinner     2\n",
       "1         10.34  1.66    Male     No   Sun  Dinner     3\n",
       "2         21.01  3.50    Male     No   Sun  Dinner     3\n",
       "3         23.68  3.31    Male     No   Sun  Dinner     2\n",
       "4         24.59  3.61  Female     No   Sun  Dinner     4\n",
       "..          ...   ...     ...    ...   ...     ...   ...\n",
       "239       29.03  5.92    Male     No   Sat  Dinner     3\n",
       "240       27.18  2.00  Female    Yes   Sat  Dinner     2\n",
       "241       22.67  2.00    Male    Yes   Sat  Dinner     2\n",
       "242       17.82  1.75    Male     No   Sat  Dinner     2\n",
       "243       18.78  3.00  Female     No  Thur  Dinner     2\n",
       "\n",
       "[244 rows x 7 columns]"
      ]
     },
     "execution_count": 4,
     "metadata": {},
     "output_type": "execute_result"
    }
   ],
   "source": [
    "df = sns.load_dataset('tips')\n",
    "df"
   ]
  },
  {
   "cell_type": "markdown",
   "id": "4481a5f1-63d3-44dd-b7a0-6a76ae74b36a",
   "metadata": {},
   "source": [
    "## Select the variables for the model\n",
    "\n",
    "**Both variables must be continuous**\n",
    "\n",
    "1. y: the variable you want to predict\n",
    "2. X: the variable you will use to calculate the prediction y"
   ]
  },
  {
   "cell_type": "code",
   "execution_count": 10,
   "id": "0c022284-28e5-45bb-a89f-d3a699161ba2",
   "metadata": {},
   "outputs": [],
   "source": [
    "X = df[['total_bill']] # ojo con el doble corchete, es porque se va a actuar sobre esta variable\n",
    "y = df.tip"
   ]
  },
  {
   "cell_type": "markdown",
   "id": "a02dfd04-f2eb-4f15-a5dd-9ff50eec2419",
   "metadata": {},
   "source": [
    "## The Linear Regression ML Model"
   ]
  },
  {
   "cell_type": "markdown",
   "id": "f73cc2cb-aef7-40ef-b1df-e326f078484a",
   "metadata": {},
   "source": [
    "### Fit the model with the data"
   ]
  },
  {
   "cell_type": "code",
   "execution_count": 11,
   "id": "d5e8b791-345e-415a-a455-2dd58b2777b3",
   "metadata": {},
   "outputs": [],
   "source": [
    "from sklearn.linear_model import LinearRegression"
   ]
  },
  {
   "cell_type": "code",
   "execution_count": 12,
   "id": "02782b2a-9ad6-4c9b-8700-5ee589774934",
   "metadata": {},
   "outputs": [],
   "source": [
    "model_lr = LinearRegression() # ya con esto hizo la regresion"
   ]
  },
  {
   "cell_type": "code",
   "execution_count": 13,
   "id": "01fee99f-9224-414b-bf90-c73a2ae01339",
   "metadata": {},
   "outputs": [
    {
     "data": {
      "text/html": [
       "<style>#sk-container-id-1 {color: black;}#sk-container-id-1 pre{padding: 0;}#sk-container-id-1 div.sk-toggleable {background-color: white;}#sk-container-id-1 label.sk-toggleable__label {cursor: pointer;display: block;width: 100%;margin-bottom: 0;padding: 0.3em;box-sizing: border-box;text-align: center;}#sk-container-id-1 label.sk-toggleable__label-arrow:before {content: \"▸\";float: left;margin-right: 0.25em;color: #696969;}#sk-container-id-1 label.sk-toggleable__label-arrow:hover:before {color: black;}#sk-container-id-1 div.sk-estimator:hover label.sk-toggleable__label-arrow:before {color: black;}#sk-container-id-1 div.sk-toggleable__content {max-height: 0;max-width: 0;overflow: hidden;text-align: left;background-color: #f0f8ff;}#sk-container-id-1 div.sk-toggleable__content pre {margin: 0.2em;color: black;border-radius: 0.25em;background-color: #f0f8ff;}#sk-container-id-1 input.sk-toggleable__control:checked~div.sk-toggleable__content {max-height: 200px;max-width: 100%;overflow: auto;}#sk-container-id-1 input.sk-toggleable__control:checked~label.sk-toggleable__label-arrow:before {content: \"▾\";}#sk-container-id-1 div.sk-estimator input.sk-toggleable__control:checked~label.sk-toggleable__label {background-color: #d4ebff;}#sk-container-id-1 div.sk-label input.sk-toggleable__control:checked~label.sk-toggleable__label {background-color: #d4ebff;}#sk-container-id-1 input.sk-hidden--visually {border: 0;clip: rect(1px 1px 1px 1px);clip: rect(1px, 1px, 1px, 1px);height: 1px;margin: -1px;overflow: hidden;padding: 0;position: absolute;width: 1px;}#sk-container-id-1 div.sk-estimator {font-family: monospace;background-color: #f0f8ff;border: 1px dotted black;border-radius: 0.25em;box-sizing: border-box;margin-bottom: 0.5em;}#sk-container-id-1 div.sk-estimator:hover {background-color: #d4ebff;}#sk-container-id-1 div.sk-parallel-item::after {content: \"\";width: 100%;border-bottom: 1px solid gray;flex-grow: 1;}#sk-container-id-1 div.sk-label:hover label.sk-toggleable__label {background-color: #d4ebff;}#sk-container-id-1 div.sk-serial::before {content: \"\";position: absolute;border-left: 1px solid gray;box-sizing: border-box;top: 0;bottom: 0;left: 50%;z-index: 0;}#sk-container-id-1 div.sk-serial {display: flex;flex-direction: column;align-items: center;background-color: white;padding-right: 0.2em;padding-left: 0.2em;position: relative;}#sk-container-id-1 div.sk-item {position: relative;z-index: 1;}#sk-container-id-1 div.sk-parallel {display: flex;align-items: stretch;justify-content: center;background-color: white;position: relative;}#sk-container-id-1 div.sk-item::before, #sk-container-id-1 div.sk-parallel-item::before {content: \"\";position: absolute;border-left: 1px solid gray;box-sizing: border-box;top: 0;bottom: 0;left: 50%;z-index: -1;}#sk-container-id-1 div.sk-parallel-item {display: flex;flex-direction: column;z-index: 1;position: relative;background-color: white;}#sk-container-id-1 div.sk-parallel-item:first-child::after {align-self: flex-end;width: 50%;}#sk-container-id-1 div.sk-parallel-item:last-child::after {align-self: flex-start;width: 50%;}#sk-container-id-1 div.sk-parallel-item:only-child::after {width: 0;}#sk-container-id-1 div.sk-dashed-wrapped {border: 1px dashed gray;margin: 0 0.4em 0.5em 0.4em;box-sizing: border-box;padding-bottom: 0.4em;background-color: white;}#sk-container-id-1 div.sk-label label {font-family: monospace;font-weight: bold;display: inline-block;line-height: 1.2em;}#sk-container-id-1 div.sk-label-container {text-align: center;}#sk-container-id-1 div.sk-container {/* jupyter's `normalize.less` sets `[hidden] { display: none; }` but bootstrap.min.css set `[hidden] { display: none !important; }` so we also need the `!important` here to be able to override the default hidden behavior on the sphinx rendered scikit-learn.org. See: https://github.com/scikit-learn/scikit-learn/issues/21755 */display: inline-block !important;position: relative;}#sk-container-id-1 div.sk-text-repr-fallback {display: none;}</style><div id=\"sk-container-id-1\" class=\"sk-top-container\"><div class=\"sk-text-repr-fallback\"><pre>LinearRegression()</pre><b>In a Jupyter environment, please rerun this cell to show the HTML representation or trust the notebook. <br />On GitHub, the HTML representation is unable to render, please try loading this page with nbviewer.org.</b></div><div class=\"sk-container\" hidden><div class=\"sk-item\"><div class=\"sk-estimator sk-toggleable\"><input class=\"sk-toggleable__control sk-hidden--visually\" id=\"sk-estimator-id-1\" type=\"checkbox\" checked><label for=\"sk-estimator-id-1\" class=\"sk-toggleable__label sk-toggleable__label-arrow\">LinearRegression</label><div class=\"sk-toggleable__content\"><pre>LinearRegression()</pre></div></div></div></div></div>"
      ],
      "text/plain": [
       "LinearRegression()"
      ]
     },
     "execution_count": 13,
     "metadata": {},
     "output_type": "execute_result"
    }
   ],
   "source": [
    "model_lr.fit(X, y)"
   ]
  },
  {
   "cell_type": "markdown",
   "id": "49819c02-1c2a-4ac8-b09e-2458a6e5280f",
   "metadata": {},
   "source": [
    "### Predictions"
   ]
  },
  {
   "cell_type": "markdown",
   "id": "3f594fcd-1dce-4117-927e-61916624c328",
   "metadata": {},
   "source": [
    "#### Calculate the predictions"
   ]
  },
  {
   "cell_type": "code",
   "execution_count": 14,
   "id": "fd167062-c4e6-4fdd-ae4e-944030cf58b3",
   "metadata": {},
   "outputs": [
    {
     "data": {
      "text/plain": [
       "array([2.70463616, 2.00622312, 3.12683472, 3.40725019, 3.5028225 ,\n",
       "       3.57633966, 1.84133463, 3.74332864, 2.49983836, 2.47253198,\n",
       "       1.99887141, 4.6234341 , 2.53974767, 2.85587147, 2.47778321,\n",
       "       3.1866987 , 2.00517288, 2.631119  , 2.70253567, 3.0890259 ,\n",
       "       2.80230897, 3.05121707, 2.57650625, 5.06033609, 3.00185555,\n",
       "       2.79075627, 2.32444741, 2.25303074, 3.19930164, 2.98400138,\n",
       "       1.92325375, 2.84746951, 2.50193885, 3.09322688, 2.78760553,\n",
       "       3.4471595 , 2.63321949, 2.69833469, 2.88317784, 4.20438627,\n",
       "       2.60486287, 2.75399769, 2.38431139, 1.93690694, 4.11301494,\n",
       "       2.84116804, 3.25496464, 4.32306398, 3.91871958, 2.81491191,\n",
       "       2.23727706, 2.0009719 , 4.57617306, 1.96421332, 3.60469628,\n",
       "       2.96719746, 4.91225152, 3.69396712, 2.10074519, 5.98980307,\n",
       "       3.05121707, 2.3706582 , 2.0776398 , 2.84116804, 2.76765087,\n",
       "       3.02916192, 2.64792292, 1.24269488, 3.0449156 , 2.49668762,\n",
       "       2.18266431, 2.71303813, 3.74122815, 3.57528941, 2.46728075,\n",
       "       2.02407729, 2.80230897, 3.77693649, 3.31062763, 2.73614352,\n",
       "       2.96194623, 2.66997807, 1.9778665 , 4.35247084, 2.5985614 ,\n",
       "       4.57827355, 2.28873908, 2.84011779, 3.51542544, 3.1425884 ,\n",
       "       3.96282988, 3.28227101, 1.52416059, 2.63426974, 3.30957738,\n",
       "       5.13910448, 3.78533845, 2.18371456, 3.12683472, 2.2288751 ,\n",
       "       2.11229789, 2.53554669, 5.57285573, 3.27491929, 3.11738252,\n",
       "       2.5334462 , 3.07222197, 3.5679377 , 2.83591681, 2.42317046,\n",
       "       2.39061286, 1.68169736, 4.91855299, 3.4356068 , 3.62044996,\n",
       "       2.73824401, 4.06365342, 2.03878072, 2.22572436, 3.44925999,\n",
       "       2.14800622, 2.32969864, 2.41791923, 2.59541067, 2.23097559,\n",
       "       4.05000023, 1.8150785 , 2.44522561, 2.11544862, 3.3169291 ,\n",
       "       2.92413741, 3.04911658, 2.09339347, 2.2078702 , 2.8380173 ,\n",
       "       1.81402826, 2.00517288, 2.40636653, 2.60066189, 2.30239226,\n",
       "       2.75504793, 4.52261056, 5.24622948, 3.76118281, 2.64582243,\n",
       "       1.79722433, 2.87792662, 2.16691063, 1.94740939, 1.70900374,\n",
       "       2.39796457, 2.29924153, 2.73299278, 3.49862152, 2.99660432,\n",
       "       4.05525146, 5.97930062, 3.54588255, 2.3265479 , 2.65212391,\n",
       "       3.17829674, 2.24988   , 2.62271704, 2.3706582 , 2.75924891,\n",
       "       3.49547078, 3.10057859, 4.25059706, 2.03247925, 2.03668023,\n",
       "       6.25656534, 2.58070723, 1.68169736, 4.26530049, 2.686782  ,\n",
       "       4.37557624, 2.79915823, 2.44102463, 1.92850498, 4.55726865,\n",
       "       4.55936914, 3.3704916 , 5.68313148, 3.35368768, 5.17901379,\n",
       "       3.09322688, 3.11528203, 4.11931641, 2.8264646 , 3.34633597,\n",
       "       2.56810429, 3.0008053 , 3.90716689, 2.54604914, 2.66157611,\n",
       "       1.71425496, 2.00622312, 5.44787656, 2.28558834, 2.33915084,\n",
       "       2.88527833, 2.25828197, 2.28558834, 2.6426717 , 3.07642296,\n",
       "       2.65002341, 3.71287153, 4.98786917, 3.46921465, 2.26038246,\n",
       "       4.07730661, 3.63935437, 5.99610454, 2.31394496, 3.87881027,\n",
       "       2.27508589, 3.87670978, 2.13750377, 1.73315938, 4.08570857,\n",
       "       2.19736774, 2.32969864, 1.82137997, 2.5985614 , 2.32969864,\n",
       "       2.62901851, 1.97996699, 3.06802099, 2.3149952 , 3.24341194,\n",
       "       3.44190828, 2.56810429, 2.13960426, 2.05138367, 2.55130037,\n",
       "       1.9778665 , 2.24357853, 4.36822452, 4.68329807, 3.96913135,\n",
       "       3.774836  , 3.30117542, 2.79180651, 2.89263005])"
      ]
     },
     "execution_count": 14,
     "metadata": {},
     "output_type": "execute_result"
    }
   ],
   "source": [
    "model_lr.predict(X)"
   ]
  },
  {
   "cell_type": "markdown",
   "id": "7f388949-b81f-4e8a-97da-d3229359526f",
   "metadata": {},
   "source": [
    "### Model evaluation"
   ]
  },
  {
   "cell_type": "markdown",
   "id": "d96c35c8-d0db-49c4-b54d-0f2c1467d162",
   "metadata": {},
   "source": [
    "#### Calculate the model's score"
   ]
  },
  {
   "cell_type": "code",
   "execution_count": 15,
   "id": "0b575126-2e8b-4a09-924f-dd7909878260",
   "metadata": {},
   "outputs": [
    {
     "data": {
      "text/plain": [
       "0.45661658635167657"
      ]
     },
     "execution_count": 15,
     "metadata": {},
     "output_type": "execute_result"
    }
   ],
   "source": [
    "model_lr.score(X, y)"
   ]
  },
  {
   "cell_type": "markdown",
   "id": "1cb3d7ff-7bcb-4cc8-a451-111e8076b0ec",
   "metadata": {},
   "source": [
    "## The K Nearest Neighbours ML Model"
   ]
  },
  {
   "cell_type": "markdown",
   "id": "fd69c0b3-406a-457a-87fa-8c5bfc7505a6",
   "metadata": {},
   "source": [
    "### Fit the model with the data"
   ]
  },
  {
   "cell_type": "code",
   "execution_count": 16,
   "id": "0a270e23-caa2-44bb-a4b5-960b971d3eab",
   "metadata": {},
   "outputs": [],
   "source": [
    "from sklearn.neighbors import KNeighborsRegressor"
   ]
  },
  {
   "cell_type": "code",
   "execution_count": 17,
   "id": "0da22909-95f7-4741-b7b8-aa4e8901cdd8",
   "metadata": {},
   "outputs": [],
   "source": [
    "model_kn = KNeighborsRegressor() # es otro tipo de regresion"
   ]
  },
  {
   "cell_type": "code",
   "execution_count": 18,
   "id": "f9d870ed-83a9-48b4-99cd-1a5d2a2a2297",
   "metadata": {},
   "outputs": [
    {
     "data": {
      "text/html": [
       "<style>#sk-container-id-2 {color: black;}#sk-container-id-2 pre{padding: 0;}#sk-container-id-2 div.sk-toggleable {background-color: white;}#sk-container-id-2 label.sk-toggleable__label {cursor: pointer;display: block;width: 100%;margin-bottom: 0;padding: 0.3em;box-sizing: border-box;text-align: center;}#sk-container-id-2 label.sk-toggleable__label-arrow:before {content: \"▸\";float: left;margin-right: 0.25em;color: #696969;}#sk-container-id-2 label.sk-toggleable__label-arrow:hover:before {color: black;}#sk-container-id-2 div.sk-estimator:hover label.sk-toggleable__label-arrow:before {color: black;}#sk-container-id-2 div.sk-toggleable__content {max-height: 0;max-width: 0;overflow: hidden;text-align: left;background-color: #f0f8ff;}#sk-container-id-2 div.sk-toggleable__content pre {margin: 0.2em;color: black;border-radius: 0.25em;background-color: #f0f8ff;}#sk-container-id-2 input.sk-toggleable__control:checked~div.sk-toggleable__content {max-height: 200px;max-width: 100%;overflow: auto;}#sk-container-id-2 input.sk-toggleable__control:checked~label.sk-toggleable__label-arrow:before {content: \"▾\";}#sk-container-id-2 div.sk-estimator input.sk-toggleable__control:checked~label.sk-toggleable__label {background-color: #d4ebff;}#sk-container-id-2 div.sk-label input.sk-toggleable__control:checked~label.sk-toggleable__label {background-color: #d4ebff;}#sk-container-id-2 input.sk-hidden--visually {border: 0;clip: rect(1px 1px 1px 1px);clip: rect(1px, 1px, 1px, 1px);height: 1px;margin: -1px;overflow: hidden;padding: 0;position: absolute;width: 1px;}#sk-container-id-2 div.sk-estimator {font-family: monospace;background-color: #f0f8ff;border: 1px dotted black;border-radius: 0.25em;box-sizing: border-box;margin-bottom: 0.5em;}#sk-container-id-2 div.sk-estimator:hover {background-color: #d4ebff;}#sk-container-id-2 div.sk-parallel-item::after {content: \"\";width: 100%;border-bottom: 1px solid gray;flex-grow: 1;}#sk-container-id-2 div.sk-label:hover label.sk-toggleable__label {background-color: #d4ebff;}#sk-container-id-2 div.sk-serial::before {content: \"\";position: absolute;border-left: 1px solid gray;box-sizing: border-box;top: 0;bottom: 0;left: 50%;z-index: 0;}#sk-container-id-2 div.sk-serial {display: flex;flex-direction: column;align-items: center;background-color: white;padding-right: 0.2em;padding-left: 0.2em;position: relative;}#sk-container-id-2 div.sk-item {position: relative;z-index: 1;}#sk-container-id-2 div.sk-parallel {display: flex;align-items: stretch;justify-content: center;background-color: white;position: relative;}#sk-container-id-2 div.sk-item::before, #sk-container-id-2 div.sk-parallel-item::before {content: \"\";position: absolute;border-left: 1px solid gray;box-sizing: border-box;top: 0;bottom: 0;left: 50%;z-index: -1;}#sk-container-id-2 div.sk-parallel-item {display: flex;flex-direction: column;z-index: 1;position: relative;background-color: white;}#sk-container-id-2 div.sk-parallel-item:first-child::after {align-self: flex-end;width: 50%;}#sk-container-id-2 div.sk-parallel-item:last-child::after {align-self: flex-start;width: 50%;}#sk-container-id-2 div.sk-parallel-item:only-child::after {width: 0;}#sk-container-id-2 div.sk-dashed-wrapped {border: 1px dashed gray;margin: 0 0.4em 0.5em 0.4em;box-sizing: border-box;padding-bottom: 0.4em;background-color: white;}#sk-container-id-2 div.sk-label label {font-family: monospace;font-weight: bold;display: inline-block;line-height: 1.2em;}#sk-container-id-2 div.sk-label-container {text-align: center;}#sk-container-id-2 div.sk-container {/* jupyter's `normalize.less` sets `[hidden] { display: none; }` but bootstrap.min.css set `[hidden] { display: none !important; }` so we also need the `!important` here to be able to override the default hidden behavior on the sphinx rendered scikit-learn.org. See: https://github.com/scikit-learn/scikit-learn/issues/21755 */display: inline-block !important;position: relative;}#sk-container-id-2 div.sk-text-repr-fallback {display: none;}</style><div id=\"sk-container-id-2\" class=\"sk-top-container\"><div class=\"sk-text-repr-fallback\"><pre>KNeighborsRegressor()</pre><b>In a Jupyter environment, please rerun this cell to show the HTML representation or trust the notebook. <br />On GitHub, the HTML representation is unable to render, please try loading this page with nbviewer.org.</b></div><div class=\"sk-container\" hidden><div class=\"sk-item\"><div class=\"sk-estimator sk-toggleable\"><input class=\"sk-toggleable__control sk-hidden--visually\" id=\"sk-estimator-id-2\" type=\"checkbox\" checked><label for=\"sk-estimator-id-2\" class=\"sk-toggleable__label sk-toggleable__label-arrow\">KNeighborsRegressor</label><div class=\"sk-toggleable__content\"><pre>KNeighborsRegressor()</pre></div></div></div></div></div>"
      ],
      "text/plain": [
       "KNeighborsRegressor()"
      ]
     },
     "execution_count": 18,
     "metadata": {},
     "output_type": "execute_result"
    }
   ],
   "source": [
    "model_kn.fit(X, y)"
   ]
  },
  {
   "cell_type": "markdown",
   "id": "4c5945d2-8142-4143-82b1-82e18e33dfca",
   "metadata": {},
   "source": [
    "### Predictions"
   ]
  },
  {
   "cell_type": "markdown",
   "id": "a8135197-12e7-4970-8ddb-51809b0665ee",
   "metadata": {},
   "source": [
    "#### Calculate the predictions"
   ]
  },
  {
   "cell_type": "code",
   "execution_count": 19,
   "id": "f1e74726-20b1-4ec3-86a9-f69ca1d03369",
   "metadata": {},
   "outputs": [
    {
     "data": {
      "text/plain": [
       "array([2.916, 1.986, 3.416, 3.422, 3.394, 4.418, 1.63 , 3.334, 2.66 ,\n",
       "       2.508, 1.928, 4.744, 2.246, 3.252, 2.5  , 3.52 , 1.986, 2.902,\n",
       "       2.916, 3.408, 2.65 , 2.76 , 2.378, 4.462, 3.104, 2.488, 2.27 ,\n",
       "       1.948, 3.92 , 3.176, 2.012, 3.252, 2.66 , 3.408, 2.488, 2.62 ,\n",
       "       3.002, 2.916, 2.734, 4.056, 2.254, 3.036, 2.512, 2.012, 3.552,\n",
       "       3.554, 3.372, 3.692, 3.422, 3.132, 1.864, 1.928, 4.52 , 1.674,\n",
       "       4.642, 3.14 , 4.462, 3.266, 1.948, 6.846, 2.76 , 2.512, 1.842,\n",
       "       3.554, 2.99 , 2.79 , 2.5  , 2.03 , 2.79 , 2.66 , 1.86 , 2.664,\n",
       "       3.334, 4.418, 2.49 , 1.604, 2.65 , 3.624, 2.786, 2.998, 2.602,\n",
       "       3.326, 1.67 , 3.692, 2.254, 4.52 , 1.82 , 3.554, 3.738, 3.416,\n",
       "       4.006, 3.446, 2.118, 3.002, 2.786, 4.662, 3.624, 1.86 , 3.416,\n",
       "       1.864, 1.852, 2.246, 3.8  , 3.372, 3.264, 2.246, 3.432, 4.418,\n",
       "       3.554, 2.5  , 2.512, 2.206, 4.462, 2.876, 4.642, 2.998, 3.9  ,\n",
       "       1.566, 2.064, 2.62 , 2.166, 2.27 , 2.6  , 2.254, 1.864, 3.9  ,\n",
       "       1.63 , 2.54 , 1.852, 2.886, 2.762, 2.76 , 1.948, 2.004, 3.554,\n",
       "       1.63 , 1.986, 2.8  , 2.254, 2.394, 3.036, 4.86 , 5.062, 3.452,\n",
       "       2.5  , 1.63 , 2.734, 2.16 , 2.012, 2.206, 2.612, 2.15 , 2.898,\n",
       "       3.394, 3.176, 3.9  , 6.846, 4.72 , 2.27 , 2.5  , 3.544, 1.948,\n",
       "       2.902, 2.512, 3.036, 3.394, 3.308, 4.736, 1.566, 1.566, 6.846,\n",
       "       2.378, 2.206, 4.736, 2.996, 3.692, 2.65 , 2.54 , 2.012, 4.86 ,\n",
       "       4.86 , 4.328, 4.546, 4.266, 4.662, 3.408, 3.264, 3.552, 3.502,\n",
       "       4.266, 2.578, 3.104, 3.422, 2.246, 3.02 , 2.206, 1.986, 3.8  ,\n",
       "       1.82 , 2.27 , 2.734, 1.948, 1.82 , 2.96 , 3.882, 2.5  , 3.234,\n",
       "       4.462, 2.806, 1.968, 3.9  , 3.942, 6.846, 2.516, 3.422, 1.866,\n",
       "       3.422, 2.34 , 2.206, 4.18 , 1.894, 2.27 , 1.63 , 2.254, 2.27 ,\n",
       "       2.902, 1.67 , 3.404, 2.516, 3.832, 2.62 , 2.578, 2.34 , 1.712,\n",
       "       2.518, 1.67 , 2.104, 3.692, 4.744, 3.546, 3.624, 2.786, 2.488,\n",
       "       2.434])"
      ]
     },
     "execution_count": 19,
     "metadata": {},
     "output_type": "execute_result"
    }
   ],
   "source": [
    "model_kn.predict(X)"
   ]
  },
  {
   "cell_type": "markdown",
   "id": "4175d3ab-3221-4149-8b2e-5b6dda4dd331",
   "metadata": {},
   "source": [
    "### Model evaluation"
   ]
  },
  {
   "cell_type": "markdown",
   "id": "36ef3018-be54-40c2-b18b-4dc1ba480e5b",
   "metadata": {},
   "source": [
    "#### Calculate the model's score"
   ]
  },
  {
   "cell_type": "code",
   "execution_count": 20,
   "id": "69410a80-3875-4a6d-96c7-c79e9f4f7319",
   "metadata": {},
   "outputs": [
    {
     "data": {
      "text/plain": [
       "0.563564749406891"
      ]
     },
     "execution_count": 20,
     "metadata": {},
     "output_type": "execute_result"
    }
   ],
   "source": [
    "model_kn.score(X,y)"
   ]
  },
  {
   "cell_type": "markdown",
   "id": "37021e5d-c59a-4517-88a3-7de0c3994ab3",
   "metadata": {},
   "source": [
    "## The Random Forest ML Model"
   ]
  },
  {
   "cell_type": "markdown",
   "id": "ee31025e-2830-43dc-8082-f2de0473ec0a",
   "metadata": {},
   "source": [
    "### Fit the model with the data"
   ]
  },
  {
   "cell_type": "code",
   "execution_count": 22,
   "id": "e98fcdd6-ca3b-4e0b-ac09-f1b85eb1edfc",
   "metadata": {},
   "outputs": [],
   "source": [
    "from sklearn.svm import SVR"
   ]
  },
  {
   "cell_type": "code",
   "execution_count": 23,
   "id": "19113c1f-c7c1-4bfe-b75e-111657ec9ffb",
   "metadata": {},
   "outputs": [],
   "source": [
    "model_sv = SVR()"
   ]
  },
  {
   "cell_type": "code",
   "execution_count": 24,
   "id": "a936b329-62aa-45ee-a73f-adbca9935cce",
   "metadata": {},
   "outputs": [
    {
     "data": {
      "text/html": [
       "<style>#sk-container-id-3 {color: black;}#sk-container-id-3 pre{padding: 0;}#sk-container-id-3 div.sk-toggleable {background-color: white;}#sk-container-id-3 label.sk-toggleable__label {cursor: pointer;display: block;width: 100%;margin-bottom: 0;padding: 0.3em;box-sizing: border-box;text-align: center;}#sk-container-id-3 label.sk-toggleable__label-arrow:before {content: \"▸\";float: left;margin-right: 0.25em;color: #696969;}#sk-container-id-3 label.sk-toggleable__label-arrow:hover:before {color: black;}#sk-container-id-3 div.sk-estimator:hover label.sk-toggleable__label-arrow:before {color: black;}#sk-container-id-3 div.sk-toggleable__content {max-height: 0;max-width: 0;overflow: hidden;text-align: left;background-color: #f0f8ff;}#sk-container-id-3 div.sk-toggleable__content pre {margin: 0.2em;color: black;border-radius: 0.25em;background-color: #f0f8ff;}#sk-container-id-3 input.sk-toggleable__control:checked~div.sk-toggleable__content {max-height: 200px;max-width: 100%;overflow: auto;}#sk-container-id-3 input.sk-toggleable__control:checked~label.sk-toggleable__label-arrow:before {content: \"▾\";}#sk-container-id-3 div.sk-estimator input.sk-toggleable__control:checked~label.sk-toggleable__label {background-color: #d4ebff;}#sk-container-id-3 div.sk-label input.sk-toggleable__control:checked~label.sk-toggleable__label {background-color: #d4ebff;}#sk-container-id-3 input.sk-hidden--visually {border: 0;clip: rect(1px 1px 1px 1px);clip: rect(1px, 1px, 1px, 1px);height: 1px;margin: -1px;overflow: hidden;padding: 0;position: absolute;width: 1px;}#sk-container-id-3 div.sk-estimator {font-family: monospace;background-color: #f0f8ff;border: 1px dotted black;border-radius: 0.25em;box-sizing: border-box;margin-bottom: 0.5em;}#sk-container-id-3 div.sk-estimator:hover {background-color: #d4ebff;}#sk-container-id-3 div.sk-parallel-item::after {content: \"\";width: 100%;border-bottom: 1px solid gray;flex-grow: 1;}#sk-container-id-3 div.sk-label:hover label.sk-toggleable__label {background-color: #d4ebff;}#sk-container-id-3 div.sk-serial::before {content: \"\";position: absolute;border-left: 1px solid gray;box-sizing: border-box;top: 0;bottom: 0;left: 50%;z-index: 0;}#sk-container-id-3 div.sk-serial {display: flex;flex-direction: column;align-items: center;background-color: white;padding-right: 0.2em;padding-left: 0.2em;position: relative;}#sk-container-id-3 div.sk-item {position: relative;z-index: 1;}#sk-container-id-3 div.sk-parallel {display: flex;align-items: stretch;justify-content: center;background-color: white;position: relative;}#sk-container-id-3 div.sk-item::before, #sk-container-id-3 div.sk-parallel-item::before {content: \"\";position: absolute;border-left: 1px solid gray;box-sizing: border-box;top: 0;bottom: 0;left: 50%;z-index: -1;}#sk-container-id-3 div.sk-parallel-item {display: flex;flex-direction: column;z-index: 1;position: relative;background-color: white;}#sk-container-id-3 div.sk-parallel-item:first-child::after {align-self: flex-end;width: 50%;}#sk-container-id-3 div.sk-parallel-item:last-child::after {align-self: flex-start;width: 50%;}#sk-container-id-3 div.sk-parallel-item:only-child::after {width: 0;}#sk-container-id-3 div.sk-dashed-wrapped {border: 1px dashed gray;margin: 0 0.4em 0.5em 0.4em;box-sizing: border-box;padding-bottom: 0.4em;background-color: white;}#sk-container-id-3 div.sk-label label {font-family: monospace;font-weight: bold;display: inline-block;line-height: 1.2em;}#sk-container-id-3 div.sk-label-container {text-align: center;}#sk-container-id-3 div.sk-container {/* jupyter's `normalize.less` sets `[hidden] { display: none; }` but bootstrap.min.css set `[hidden] { display: none !important; }` so we also need the `!important` here to be able to override the default hidden behavior on the sphinx rendered scikit-learn.org. See: https://github.com/scikit-learn/scikit-learn/issues/21755 */display: inline-block !important;position: relative;}#sk-container-id-3 div.sk-text-repr-fallback {display: none;}</style><div id=\"sk-container-id-3\" class=\"sk-top-container\"><div class=\"sk-text-repr-fallback\"><pre>SVR()</pre><b>In a Jupyter environment, please rerun this cell to show the HTML representation or trust the notebook. <br />On GitHub, the HTML representation is unable to render, please try loading this page with nbviewer.org.</b></div><div class=\"sk-container\" hidden><div class=\"sk-item\"><div class=\"sk-estimator sk-toggleable\"><input class=\"sk-toggleable__control sk-hidden--visually\" id=\"sk-estimator-id-3\" type=\"checkbox\" checked><label for=\"sk-estimator-id-3\" class=\"sk-toggleable__label sk-toggleable__label-arrow\">SVR</label><div class=\"sk-toggleable__content\"><pre>SVR()</pre></div></div></div></div></div>"
      ],
      "text/plain": [
       "SVR()"
      ]
     },
     "execution_count": 24,
     "metadata": {},
     "output_type": "execute_result"
    }
   ],
   "source": [
    "model_sv.fit(X, y)"
   ]
  },
  {
   "cell_type": "markdown",
   "id": "7665a639-5d5a-44c0-ad2a-42357117d473",
   "metadata": {},
   "source": [
    "### Predictions"
   ]
  },
  {
   "cell_type": "markdown",
   "id": "6a662519-7561-43e7-a648-d6f6d81af913",
   "metadata": {},
   "source": [
    "#### Calculate the predictions"
   ]
  },
  {
   "cell_type": "code",
   "execution_count": 26,
   "id": "f72f3abf-950d-463b-b236-ef8712e139c0",
   "metadata": {},
   "outputs": [
    {
     "data": {
      "text/plain": [
       "array([2.73981727, 1.74767473, 3.26792657, 3.51411   , 3.59673751,\n",
       "       3.6641219 , 1.60387138, 3.83477125, 2.42112638, 2.37825694,\n",
       "       1.7401737 , 4.57056292, 2.48398836, 2.95581602, 2.3864863 ,\n",
       "       3.32444342, 1.74659729, 2.6272555 , 2.7366542 , 3.23024643,\n",
       "       2.88227469, 3.19081656, 2.54186249, 4.50563703, 3.13648794,\n",
       "       2.86595259, 2.15212931, 2.04960875, 3.33591634, 3.11600656,\n",
       "       1.66874885, 2.94452176, 2.42443069, 3.23451668, 2.86147429,\n",
       "       3.54811231, 2.63051648, 2.73031737, 2.99187231, 4.35759803,\n",
       "       2.58632982, 2.8130238 , 2.24179909, 1.68085305, 4.2633485 ,\n",
       "       2.93599061, 3.38518188, 4.45822327, 4.03738589, 2.89990016,\n",
       "       2.02776315, 1.74230706, 4.56641381, 1.70612135, 3.69129518,\n",
       "       3.09631844, 4.53022426, 3.78165539, 1.85234003, 5.10714342,\n",
       "       3.19081656, 2.22109479, 1.82539005, 2.93599061, 2.83285359,\n",
       "       3.16695267, 2.6532804 , 1.63211363, 3.18406478, 2.41617136,\n",
       "       1.95446228, 2.75243296, 3.83246748, 3.66312896, 2.37003605,\n",
       "       1.76628743, 2.88227469, 3.87212339, 3.4327848 , 2.78680709,\n",
       "       3.09008364, 2.68719463, 1.71927526, 4.47853915, 2.57646845,\n",
       "       4.56669484, 2.10019058, 2.93456376, 3.60800424, 3.2831501 ,\n",
       "       4.08996343, 3.40868741, 1.49727813, 2.63214616, 3.43189661,\n",
       "       4.50346449, 3.88159921, 1.95583451, 3.26792657, 2.01623603,\n",
       "       1.86613144, 2.47736752, 4.71976401, 3.40239255, 3.25866173,\n",
       "       2.47405707, 3.21294698, 3.65620459, 2.92884219, 2.30140804,\n",
       "       2.25139979, 1.51917686, 4.5288746 , 3.53821157, 3.70670284,\n",
       "       2.78990758, 4.20811975, 1.78203031, 2.01193606, 3.54991843,\n",
       "       1.91004936, 2.15987228, 2.29329981, 2.57153296, 2.01910958,\n",
       "       4.1924554 , 1.58601001, 2.33561623, 1.8699287 , 3.43810837,\n",
       "       3.04403474, 3.18857182, 1.84367272, 1.98780881, 2.9317058 ,\n",
       "       1.5853263 , 1.74659729, 2.27551686, 2.57975704, 2.11989772,\n",
       "       2.81455604, 4.55600878, 4.51920209, 3.85450165, 2.65003546,\n",
       "       1.5747136 , 2.98501671, 1.93406293, 1.69040582, 1.52945948,\n",
       "       2.26263453, 2.11533276, 2.7821485 , 3.59300528, 3.13051053,\n",
       "       4.19849719, 5.09990015, 3.6356997 , 2.15522342, 2.65976281,\n",
       "       3.31671902, 2.04521581, 2.61419093, 2.22109479, 2.82067367,\n",
       "       3.59021351, 3.24193818, 4.40010417, 1.77523795, 1.77975866,\n",
       "       5.18201288, 2.54846353, 1.51917686, 4.4127782 , 2.71281998,\n",
       "       4.49310292, 2.87783869, 2.32908256, 1.67336197, 4.5634614 ,\n",
       "       4.56382748, 3.48314555, 4.82664435, 3.46903409, 4.50657469,\n",
       "       3.23451668, 3.25658918, 4.27021344, 2.91588657, 3.46285973,\n",
       "       2.52864981, 3.13529554, 4.02363224, 2.49391874, 2.67431028,\n",
       "       1.53164433, 1.74767473, 4.6174942 , 2.09567066, 2.17387316,\n",
       "       2.99460398, 2.05695631, 2.09567066, 2.64516353, 3.21730502,\n",
       "       2.65652286, 3.80174067, 4.51530993, 3.56717912, 2.05990435,\n",
       "       4.22363082, 3.7254938 , 5.111361  , 2.13672158, 3.98999394,\n",
       "       2.08068195, 3.98751147, 1.89693366, 1.54005453, 4.23309244,\n",
       "       1.97381064, 2.15987228, 1.59016227, 2.57646845, 2.15987228,\n",
       "       2.62399241, 1.72132922, 3.2085665 , 2.13825757, 3.37512246,\n",
       "       3.54360525, 2.52864981, 1.89954374, 1.79581721, 2.50219246,\n",
       "       1.71927526, 2.03646547, 4.48860443, 4.56985063, 4.09746284,\n",
       "       3.86976271, 3.42478049, 2.86744282, 3.00411704])"
      ]
     },
     "execution_count": 26,
     "metadata": {},
     "output_type": "execute_result"
    }
   ],
   "source": [
    "model_sv.predict(X)"
   ]
  },
  {
   "cell_type": "markdown",
   "id": "a4978b35-2190-4800-bba5-e424aa303af8",
   "metadata": {},
   "source": [
    "### Model evaluation"
   ]
  },
  {
   "cell_type": "markdown",
   "id": "cab19df6-dca5-4c61-8293-2628dde25ff7",
   "metadata": {},
   "source": [
    "#### Calculate the model's score"
   ]
  },
  {
   "cell_type": "code",
   "execution_count": 27,
   "id": "1f4acf1a-7328-47f9-a0de-fb14f9d6a275",
   "metadata": {},
   "outputs": [
    {
     "data": {
      "text/plain": [
       "0.4443540112391008"
      ]
     },
     "execution_count": 27,
     "metadata": {},
     "output_type": "execute_result"
    }
   ],
   "source": [
    "model_sv.score(X,y)"
   ]
  },
  {
   "cell_type": "code",
   "execution_count": null,
   "id": "c104a033-ab4e-4b36-89cf-f4857eda9b8b",
   "metadata": {},
   "outputs": [],
   "source": []
  }
 ],
 "metadata": {
  "kernelspec": {
   "display_name": "Python 3 (ipykernel)",
   "language": "python",
   "name": "python3"
  },
  "language_info": {
   "codemirror_mode": {
    "name": "ipython",
    "version": 3
   },
   "file_extension": ".py",
   "mimetype": "text/x-python",
   "name": "python",
   "nbconvert_exporter": "python",
   "pygments_lexer": "ipython3",
   "version": "3.10.8"
  }
 },
 "nbformat": 4,
 "nbformat_minor": 5
}
