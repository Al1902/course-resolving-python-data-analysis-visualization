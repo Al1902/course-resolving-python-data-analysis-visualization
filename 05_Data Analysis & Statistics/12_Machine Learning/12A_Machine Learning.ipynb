{
 "cells": [
  {
   "cell_type": "markdown",
   "id": "75c74add-5854-40b1-968d-5e0517c66fba",
   "metadata": {},
   "source": [
    "# Introduction to Machine Learning"
   ]
  },
  {
   "cell_type": "markdown",
   "id": "bba7b3ce-014f-4be4-a18f-6c771784679e",
   "metadata": {},
   "source": [
    "## [ ] Load the data"
   ]
  },
  {
   "cell_type": "code",
   "execution_count": 44,
   "id": "42ce8ec3-f408-4b5b-82a1-2737f000ebc4",
   "metadata": {},
   "outputs": [
    {
     "data": {
      "text/html": [
       "<div>\n",
       "<style scoped>\n",
       "    .dataframe tbody tr th:only-of-type {\n",
       "        vertical-align: middle;\n",
       "    }\n",
       "\n",
       "    .dataframe tbody tr th {\n",
       "        vertical-align: top;\n",
       "    }\n",
       "\n",
       "    .dataframe thead th {\n",
       "        text-align: right;\n",
       "    }\n",
       "</style>\n",
       "<table border=\"1\" class=\"dataframe\">\n",
       "  <thead>\n",
       "    <tr style=\"text-align: right;\">\n",
       "      <th></th>\n",
       "      <th>goals</th>\n",
       "      <th>points</th>\n",
       "    </tr>\n",
       "    <tr>\n",
       "      <th>team</th>\n",
       "      <th></th>\n",
       "      <th></th>\n",
       "    </tr>\n",
       "  </thead>\n",
       "  <tbody>\n",
       "    <tr>\n",
       "      <th>Manchester City</th>\n",
       "      <td>99</td>\n",
       "      <td>93</td>\n",
       "    </tr>\n",
       "    <tr>\n",
       "      <th>Liverpool</th>\n",
       "      <td>94</td>\n",
       "      <td>92</td>\n",
       "    </tr>\n",
       "    <tr>\n",
       "      <th>...</th>\n",
       "      <td>...</td>\n",
       "      <td>...</td>\n",
       "    </tr>\n",
       "    <tr>\n",
       "      <th>Watford</th>\n",
       "      <td>34</td>\n",
       "      <td>23</td>\n",
       "    </tr>\n",
       "    <tr>\n",
       "      <th>Norwich City</th>\n",
       "      <td>23</td>\n",
       "      <td>22</td>\n",
       "    </tr>\n",
       "  </tbody>\n",
       "</table>\n",
       "<p>20 rows × 2 columns</p>\n",
       "</div>"
      ],
      "text/plain": [
       "                 goals  points\n",
       "team                          \n",
       "Manchester City     99      93\n",
       "Liverpool           94      92\n",
       "...                ...     ...\n",
       "Watford             34      23\n",
       "Norwich City        23      22\n",
       "\n",
       "[20 rows x 2 columns]"
      ]
     },
     "execution_count": 44,
     "metadata": {},
     "output_type": "execute_result"
    }
   ],
   "source": [
    "import pandas as pd\n",
    "\n",
    "df_premier = pd.read_excel('premier_league.xlsx', index_col=0)\n",
    "df_premier"
   ]
  },
  {
   "cell_type": "markdown",
   "id": "33058cde-0f4b-4df5-8992-4f547e21f5f7",
   "metadata": {},
   "source": [
    "$$\n",
    "points = (a) + (b) \\cdot goals\n",
    "$$"
   ]
  },
  {
   "cell_type": "markdown",
   "id": "6e96d794-7398-4e1f-941b-382327179d34",
   "metadata": {},
   "source": [
    "## Select the variables for the model"
   ]
  },
  {
   "cell_type": "markdown",
   "id": "540ed384-7a6e-4050-84ef-67510f588485",
   "metadata": {},
   "source": [
    "1. y: the variable you want to predict\n",
    "2. X: the variable you will use to calculate the prediction y"
   ]
  },
  {
   "cell_type": "code",
   "execution_count": null,
   "id": "782cdc58-2480-4364-b2d8-947096d7f8b3",
   "metadata": {},
   "outputs": [],
   "source": []
  },
  {
   "cell_type": "markdown",
   "id": "a02dfd04-f2eb-4f15-a5dd-9ff50eec2419",
   "metadata": {},
   "source": [
    "## The Linear Regression ML Model"
   ]
  },
  {
   "cell_type": "markdown",
   "id": "f73cc2cb-aef7-40ef-b1df-e326f078484a",
   "metadata": {},
   "source": [
    "### Fit the model with the data"
   ]
  },
  {
   "cell_type": "code",
   "execution_count": null,
   "id": "42e631f9-f43e-4bda-a123-27482225bb33",
   "metadata": {},
   "outputs": [],
   "source": []
  },
  {
   "cell_type": "markdown",
   "id": "49819c02-1c2a-4ac8-b09e-2458a6e5280f",
   "metadata": {},
   "source": [
    "### Predictions"
   ]
  },
  {
   "cell_type": "markdown",
   "id": "3f594fcd-1dce-4117-927e-61916624c328",
   "metadata": {},
   "source": [
    "#### Calculate the predictions"
   ]
  },
  {
   "cell_type": "code",
   "execution_count": null,
   "id": "2d357b5f-e3a6-44f0-8a66-7f0232389d8a",
   "metadata": {},
   "outputs": [],
   "source": []
  },
  {
   "cell_type": "markdown",
   "id": "bc771ffb-6763-42b4-a4d4-d6368267f05e",
   "metadata": {},
   "source": [
    "#### Add them to the DataFrame"
   ]
  },
  {
   "cell_type": "code",
   "execution_count": null,
   "id": "9d47a73d-d3c5-4143-ab1a-de5060524147",
   "metadata": {},
   "outputs": [],
   "source": []
  },
  {
   "cell_type": "markdown",
   "id": "7f388949-b81f-4e8a-97da-d3229359526f",
   "metadata": {},
   "source": [
    "### Model evaluation"
   ]
  },
  {
   "cell_type": "markdown",
   "id": "d96c35c8-d0db-49c4-b54d-0f2c1467d162",
   "metadata": {},
   "source": [
    "#### Calculate the model's score"
   ]
  },
  {
   "cell_type": "code",
   "execution_count": null,
   "id": "c55f44fd-332b-467f-9abb-c0a25939c880",
   "metadata": {},
   "outputs": [],
   "source": []
  },
  {
   "cell_type": "markdown",
   "id": "8756e88d-2ab1-426d-b60b-1baf2d201a83",
   "metadata": {
    "tags": []
   },
   "source": [
    "#### Calculate the squared root of the score\n",
    "\n",
    "- Isn't it the same than the `r` from Pearson's correlation?"
   ]
  },
  {
   "cell_type": "code",
   "execution_count": null,
   "id": "3ff0fbf3-12b4-4928-9897-9159d259ee38",
   "metadata": {},
   "outputs": [],
   "source": []
  },
  {
   "cell_type": "markdown",
   "id": "920494da-fbfd-4ae1-ac18-079351f684fa",
   "metadata": {},
   "source": [
    "### Model Interpretation"
   ]
  },
  {
   "cell_type": "markdown",
   "id": "55c8f7b7-0ffa-4b09-83a9-eb21d328d172",
   "metadata": {
    "tags": []
   },
   "source": [
    "#### Visualize the model with the real data"
   ]
  },
  {
   "cell_type": "code",
   "execution_count": null,
   "id": "3557e80f-9ad2-4a99-90d0-1596407a79c7",
   "metadata": {},
   "outputs": [],
   "source": []
  },
  {
   "cell_type": "markdown",
   "id": "baf38c4b-425a-4576-950c-cf11ec1989b3",
   "metadata": {},
   "source": [
    "#### Add the legend to the chart\n",
    "\n",
    "- Google may help"
   ]
  },
  {
   "cell_type": "code",
   "execution_count": null,
   "id": "064310fa-3a51-4482-a2b1-c5f4c598aa7a",
   "metadata": {},
   "outputs": [],
   "source": []
  },
  {
   "cell_type": "markdown",
   "id": "455dfc7f-bcee-45de-b282-feaf1622a69d",
   "metadata": {},
   "source": [
    "#### Interpret the model's mathematical formula"
   ]
  },
  {
   "cell_type": "code",
   "execution_count": null,
   "id": "edc8df42-09de-4c63-9d53-a19b5af1a33e",
   "metadata": {},
   "outputs": [],
   "source": []
  },
  {
   "cell_type": "markdown",
   "id": "7a855016-066f-47c0-9d4c-eff318b1cd7f",
   "metadata": {},
   "source": [
    "$$\n",
    "points = (1.980) + (0.945) \\cdot goals\n",
    "$$"
   ]
  },
  {
   "cell_type": "markdown",
   "id": "37021e5d-c59a-4517-88a3-7de0c3994ab3",
   "metadata": {},
   "source": [
    "## [ ] The Random Forest ML Model\n",
    "\n",
    "Within `ensemble` module from `sklearn`"
   ]
  },
  {
   "cell_type": "markdown",
   "id": "718d7052-0a5e-4bbd-9f06-9de33734e3d7",
   "metadata": {},
   "source": [
    "### Fit the model with the data"
   ]
  },
  {
   "cell_type": "code",
   "execution_count": null,
   "id": "6928c7d9-7574-4622-a252-131680d2b500",
   "metadata": {},
   "outputs": [],
   "source": []
  },
  {
   "cell_type": "markdown",
   "id": "1a616122-8a90-4a0c-a861-32a225717b30",
   "metadata": {},
   "source": [
    "### Predictions"
   ]
  },
  {
   "cell_type": "markdown",
   "id": "adf07554-bd0d-40a6-bf2f-c470e2333d67",
   "metadata": {},
   "source": [
    "#### Calculate the predictions"
   ]
  },
  {
   "cell_type": "code",
   "execution_count": null,
   "id": "add9d522-85eb-4eb9-acd7-09995fadfb19",
   "metadata": {},
   "outputs": [],
   "source": []
  },
  {
   "cell_type": "markdown",
   "id": "14f61d65-e398-457d-b935-53e65a3d8291",
   "metadata": {},
   "source": [
    "#### Add them to the DataFrame"
   ]
  },
  {
   "cell_type": "code",
   "execution_count": null,
   "id": "e3564ec2-3faa-44c0-8341-2c2a149dfcf5",
   "metadata": {},
   "outputs": [],
   "source": []
  },
  {
   "cell_type": "markdown",
   "id": "130cd1c2-3dbd-4c4c-a932-5327025d056a",
   "metadata": {},
   "source": [
    "### Model evaluation"
   ]
  },
  {
   "cell_type": "markdown",
   "id": "bffe1544-8db4-42dd-97ab-e23f16856a60",
   "metadata": {},
   "source": [
    "#### Calculate the model's score"
   ]
  },
  {
   "cell_type": "code",
   "execution_count": null,
   "id": "a9fc0e22-869b-4154-b476-c18f524a670e",
   "metadata": {},
   "outputs": [],
   "source": []
  },
  {
   "cell_type": "markdown",
   "id": "eb93ac5a-c34a-4605-97a7-91daa2d73b4b",
   "metadata": {},
   "source": [
    "### Model Interpretation"
   ]
  },
  {
   "cell_type": "markdown",
   "id": "5e4e79f6-8829-4ff9-882e-9abaa77d4f03",
   "metadata": {
    "tags": []
   },
   "source": [
    "#### Visualize the model with the real data"
   ]
  },
  {
   "cell_type": "code",
   "execution_count": null,
   "id": "4c62541c-61da-4f81-9b33-68770a505e59",
   "metadata": {},
   "outputs": [],
   "source": []
  },
  {
   "cell_type": "markdown",
   "id": "a3cc88a5-4317-46f3-b596-259f96b3117c",
   "metadata": {},
   "source": [
    "#### Interpret the model's mathematical formula"
   ]
  },
  {
   "cell_type": "code",
   "execution_count": null,
   "id": "d894cbe0-46b9-4bbb-9f3a-4ba7e057f211",
   "metadata": {},
   "outputs": [],
   "source": []
  },
  {
   "cell_type": "markdown",
   "id": "55d409a3-a97e-4192-a48d-8952f097d1ba",
   "metadata": {},
   "source": [
    "## The K Nearest Neighbours ML Model"
   ]
  },
  {
   "cell_type": "markdown",
   "id": "6a3b2c56-f456-418e-bb3c-2f7c7279d6af",
   "metadata": {},
   "source": [
    "### Fit the model with the data"
   ]
  },
  {
   "cell_type": "code",
   "execution_count": null,
   "id": "cfac0c5e-11f1-4537-baeb-25244ea6dbf3",
   "metadata": {},
   "outputs": [],
   "source": []
  },
  {
   "cell_type": "markdown",
   "id": "604de0b3-93eb-4d3b-8c5b-31672a887f1f",
   "metadata": {},
   "source": [
    "### Predictions"
   ]
  },
  {
   "cell_type": "markdown",
   "id": "8b08fe45-60b6-4196-a756-8e370298b63f",
   "metadata": {},
   "source": [
    "#### Calculate the predictions"
   ]
  },
  {
   "cell_type": "code",
   "execution_count": null,
   "id": "16148375-b3a1-4672-b8f8-63df605804cd",
   "metadata": {},
   "outputs": [],
   "source": []
  },
  {
   "cell_type": "markdown",
   "id": "88836502-858f-4689-b7f0-69032cdd1e8b",
   "metadata": {},
   "source": [
    "#### Add them to the DataFrame"
   ]
  },
  {
   "cell_type": "code",
   "execution_count": null,
   "id": "ed7b3e23-7286-49c5-b674-05878cff3a0a",
   "metadata": {},
   "outputs": [],
   "source": []
  },
  {
   "cell_type": "markdown",
   "id": "58c088b2-2778-4289-a88e-78d2361d9317",
   "metadata": {},
   "source": [
    "### Model evaluation"
   ]
  },
  {
   "cell_type": "markdown",
   "id": "2d0ace11-863c-47a3-b066-3694fd2c5221",
   "metadata": {},
   "source": [
    "#### Calculate the model's score"
   ]
  },
  {
   "cell_type": "code",
   "execution_count": null,
   "id": "f74e9090-920e-4354-9773-e9e4606da41c",
   "metadata": {},
   "outputs": [],
   "source": []
  },
  {
   "cell_type": "markdown",
   "id": "8f5c0a52-f38e-4fd0-939c-50dc5652610d",
   "metadata": {},
   "source": [
    "### Model Interpretation"
   ]
  },
  {
   "cell_type": "markdown",
   "id": "1773c51b-36ae-4f5d-97b1-82cf898e62d3",
   "metadata": {
    "tags": []
   },
   "source": [
    "#### Visualize the model with the real data"
   ]
  },
  {
   "cell_type": "code",
   "execution_count": null,
   "id": "99a8306c-3552-4b50-9687-8ce68f486d4a",
   "metadata": {},
   "outputs": [],
   "source": []
  },
  {
   "cell_type": "markdown",
   "id": "2c437bfb-2be8-4294-af4b-13c774f5c714",
   "metadata": {},
   "source": [
    "#### Interpret the model's mathematical formula"
   ]
  },
  {
   "cell_type": "code",
   "execution_count": null,
   "id": "f58b1ad6-f929-4355-8750-71488a963166",
   "metadata": {},
   "outputs": [],
   "source": []
  }
 ],
 "metadata": {
  "kernelspec": {
   "display_name": "Python 3 (ipykernel)",
   "language": "python",
   "name": "python3"
  },
  "language_info": {
   "codemirror_mode": {
    "name": "ipython",
    "version": 3
   },
   "file_extension": ".py",
   "mimetype": "text/x-python",
   "name": "python",
   "nbconvert_exporter": "python",
   "pygments_lexer": "ipython3",
   "version": "3.10.6"
  }
 },
 "nbformat": 4,
 "nbformat_minor": 5
}
