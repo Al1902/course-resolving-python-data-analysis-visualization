{
 "cells": [
  {
   "cell_type": "markdown",
   "id": "75c74add-5854-40b1-968d-5e0517c66fba",
   "metadata": {},
   "source": [
    "# Machine Learning"
   ]
  },
  {
   "cell_type": "markdown",
   "id": "bba7b3ce-014f-4be4-a18f-6c771784679e",
   "metadata": {},
   "source": [
    "## Load the data"
   ]
  },
  {
   "cell_type": "code",
   "execution_count": 4,
   "id": "3e0844aa-24c5-4ebe-a43d-e32b01379d2c",
   "metadata": {},
   "outputs": [],
   "source": [
    "import seaborn as sns"
   ]
  },
  {
   "cell_type": "code",
   "execution_count": 5,
   "id": "f43859f5-ae52-4653-bd59-e155b645114c",
   "metadata": {},
   "outputs": [
    {
     "data": {
      "text/plain": [
       "['anagrams',\n",
       " 'anscombe',\n",
       " 'attention',\n",
       " 'brain_networks',\n",
       " 'car_crashes',\n",
       " 'diamonds',\n",
       " 'dots',\n",
       " 'dowjones',\n",
       " 'exercise',\n",
       " 'flights',\n",
       " 'fmri',\n",
       " 'geyser',\n",
       " 'glue',\n",
       " 'healthexp',\n",
       " 'iris',\n",
       " 'mpg',\n",
       " 'penguins',\n",
       " 'planets',\n",
       " 'seaice',\n",
       " 'taxis',\n",
       " 'tips',\n",
       " 'titanic']"
      ]
     },
     "execution_count": 5,
     "metadata": {},
     "output_type": "execute_result"
    }
   ],
   "source": [
    "sns.get_dataset_names()"
   ]
  },
  {
   "cell_type": "markdown",
   "id": "05dc3c6c-5af5-477a-8ae2-98281628b577",
   "metadata": {},
   "source": [
    "Load one of the datasets from the previous list"
   ]
  },
  {
   "cell_type": "code",
   "execution_count": 7,
   "id": "42ce8ec3-f408-4b5b-82a1-2737f000ebc4",
   "metadata": {},
   "outputs": [
    {
     "data": {
      "text/html": [
       "<div>\n",
       "<style scoped>\n",
       "    .dataframe tbody tr th:only-of-type {\n",
       "        vertical-align: middle;\n",
       "    }\n",
       "\n",
       "    .dataframe tbody tr th {\n",
       "        vertical-align: top;\n",
       "    }\n",
       "\n",
       "    .dataframe thead th {\n",
       "        text-align: right;\n",
       "    }\n",
       "</style>\n",
       "<table border=\"1\" class=\"dataframe\">\n",
       "  <thead>\n",
       "    <tr style=\"text-align: right;\">\n",
       "      <th></th>\n",
       "      <th>total_bill</th>\n",
       "      <th>tip</th>\n",
       "      <th>sex</th>\n",
       "      <th>smoker</th>\n",
       "      <th>day</th>\n",
       "      <th>time</th>\n",
       "      <th>size</th>\n",
       "    </tr>\n",
       "  </thead>\n",
       "  <tbody>\n",
       "    <tr>\n",
       "      <th>0</th>\n",
       "      <td>16.99</td>\n",
       "      <td>1.01</td>\n",
       "      <td>Female</td>\n",
       "      <td>No</td>\n",
       "      <td>Sun</td>\n",
       "      <td>Dinner</td>\n",
       "      <td>2</td>\n",
       "    </tr>\n",
       "    <tr>\n",
       "      <th>1</th>\n",
       "      <td>10.34</td>\n",
       "      <td>1.66</td>\n",
       "      <td>Male</td>\n",
       "      <td>No</td>\n",
       "      <td>Sun</td>\n",
       "      <td>Dinner</td>\n",
       "      <td>3</td>\n",
       "    </tr>\n",
       "    <tr>\n",
       "      <th>...</th>\n",
       "      <td>...</td>\n",
       "      <td>...</td>\n",
       "      <td>...</td>\n",
       "      <td>...</td>\n",
       "      <td>...</td>\n",
       "      <td>...</td>\n",
       "      <td>...</td>\n",
       "    </tr>\n",
       "    <tr>\n",
       "      <th>242</th>\n",
       "      <td>17.82</td>\n",
       "      <td>1.75</td>\n",
       "      <td>Male</td>\n",
       "      <td>No</td>\n",
       "      <td>Sat</td>\n",
       "      <td>Dinner</td>\n",
       "      <td>2</td>\n",
       "    </tr>\n",
       "    <tr>\n",
       "      <th>243</th>\n",
       "      <td>18.78</td>\n",
       "      <td>3.00</td>\n",
       "      <td>Female</td>\n",
       "      <td>No</td>\n",
       "      <td>Thur</td>\n",
       "      <td>Dinner</td>\n",
       "      <td>2</td>\n",
       "    </tr>\n",
       "  </tbody>\n",
       "</table>\n",
       "<p>244 rows × 7 columns</p>\n",
       "</div>"
      ],
      "text/plain": [
       "     total_bill   tip     sex smoker   day    time  size\n",
       "0         16.99  1.01  Female     No   Sun  Dinner     2\n",
       "1         10.34  1.66    Male     No   Sun  Dinner     3\n",
       "..          ...   ...     ...    ...   ...     ...   ...\n",
       "242       17.82  1.75    Male     No   Sat  Dinner     2\n",
       "243       18.78  3.00  Female     No  Thur  Dinner     2\n",
       "\n",
       "[244 rows x 7 columns]"
      ]
     },
     "execution_count": 7,
     "metadata": {},
     "output_type": "execute_result"
    }
   ],
   "source": [
    "df = sns.load_dataset('tips')\n",
    "df"
   ]
  },
  {
   "cell_type": "markdown",
   "id": "b53b7f47-bc58-4071-ba70-dcfb9c3b492d",
   "metadata": {},
   "source": [
    "## Select the variables for the model\n",
    "\n",
    "**Both variables must be continuous**\n",
    "\n",
    "1. y: the variable you want to predict\n",
    "2. X: the variable you will use to calculate the prediction y"
   ]
  },
  {
   "cell_type": "code",
   "execution_count": null,
   "id": "de6b572e-843a-45ca-8009-2c49bfb3ced0",
   "metadata": {},
   "outputs": [],
   "source": []
  },
  {
   "cell_type": "markdown",
   "id": "a02dfd04-f2eb-4f15-a5dd-9ff50eec2419",
   "metadata": {},
   "source": [
    "## The Linear Regression ML Model"
   ]
  },
  {
   "cell_type": "markdown",
   "id": "f73cc2cb-aef7-40ef-b1df-e326f078484a",
   "metadata": {},
   "source": [
    "### Fit the model with the data"
   ]
  },
  {
   "cell_type": "code",
   "execution_count": null,
   "id": "a3b685d9-edfa-4c00-bd2d-4437c179ed2f",
   "metadata": {},
   "outputs": [],
   "source": []
  },
  {
   "cell_type": "markdown",
   "id": "49819c02-1c2a-4ac8-b09e-2458a6e5280f",
   "metadata": {},
   "source": [
    "### Predictions"
   ]
  },
  {
   "cell_type": "markdown",
   "id": "3f594fcd-1dce-4117-927e-61916624c328",
   "metadata": {},
   "source": [
    "#### Calculate the predictions"
   ]
  },
  {
   "cell_type": "code",
   "execution_count": null,
   "id": "f1384c5c-946c-490d-a15d-da4ad50ab78e",
   "metadata": {},
   "outputs": [],
   "source": []
  },
  {
   "cell_type": "markdown",
   "id": "bc771ffb-6763-42b4-a4d4-d6368267f05e",
   "metadata": {},
   "source": [
    "#### Add them to the DataFrame"
   ]
  },
  {
   "cell_type": "code",
   "execution_count": null,
   "id": "e9c97a0b-fffb-48e9-a3d9-6880c4209f01",
   "metadata": {},
   "outputs": [],
   "source": []
  },
  {
   "cell_type": "markdown",
   "id": "7f388949-b81f-4e8a-97da-d3229359526f",
   "metadata": {},
   "source": [
    "### Model evaluation"
   ]
  },
  {
   "cell_type": "markdown",
   "id": "d96c35c8-d0db-49c4-b54d-0f2c1467d162",
   "metadata": {},
   "source": [
    "#### Calculate the model's score"
   ]
  },
  {
   "cell_type": "code",
   "execution_count": null,
   "id": "be1c2a03-3fc2-4f5e-8452-08d1a3629b8f",
   "metadata": {},
   "outputs": [],
   "source": []
  },
  {
   "cell_type": "markdown",
   "id": "8756e88d-2ab1-426d-b60b-1baf2d201a83",
   "metadata": {},
   "source": [
    "#### Calculate the squared root of the score\n",
    "\n",
    "- Isn't it the same than the `r` from Pearson's correlation?"
   ]
  },
  {
   "cell_type": "code",
   "execution_count": null,
   "id": "68167d76-316b-4a37-977a-ba53ba33ca21",
   "metadata": {},
   "outputs": [],
   "source": []
  },
  {
   "cell_type": "markdown",
   "id": "920494da-fbfd-4ae1-ac18-079351f684fa",
   "metadata": {},
   "source": [
    "### Model Interpretation"
   ]
  },
  {
   "cell_type": "markdown",
   "id": "55c8f7b7-0ffa-4b09-83a9-eb21d328d172",
   "metadata": {
    "tags": []
   },
   "source": [
    "#### Visualize the model with the real data"
   ]
  },
  {
   "cell_type": "code",
   "execution_count": null,
   "id": "de688eb8-655a-46b7-90cd-7e70a72c60f9",
   "metadata": {},
   "outputs": [],
   "source": []
  },
  {
   "cell_type": "markdown",
   "id": "baf38c4b-425a-4576-950c-cf11ec1989b3",
   "metadata": {},
   "source": [
    "#### Add the legend to the chart\n",
    "\n",
    "- Google may help"
   ]
  },
  {
   "cell_type": "code",
   "execution_count": null,
   "id": "f8f6f3e6-1df3-4e61-a247-21a80a2c3e30",
   "metadata": {},
   "outputs": [],
   "source": []
  },
  {
   "cell_type": "markdown",
   "id": "455dfc7f-bcee-45de-b282-feaf1622a69d",
   "metadata": {},
   "source": [
    "#### Interpret the model's mathematical formula"
   ]
  },
  {
   "cell_type": "code",
   "execution_count": null,
   "id": "e87c0677-e0b4-4e3a-bd5b-d1afb57e3395",
   "metadata": {},
   "outputs": [],
   "source": []
  },
  {
   "cell_type": "markdown",
   "id": "37021e5d-c59a-4517-88a3-7de0c3994ab3",
   "metadata": {},
   "source": [
    "## The Random Forest ML Model\n",
    "\n",
    "Within `ensemble` module from `sklearn`"
   ]
  },
  {
   "cell_type": "markdown",
   "id": "718d7052-0a5e-4bbd-9f06-9de33734e3d7",
   "metadata": {},
   "source": [
    "### Fit the model with the data"
   ]
  },
  {
   "cell_type": "code",
   "execution_count": null,
   "id": "974f204f-bea0-4215-bdc6-4d2448b9015b",
   "metadata": {},
   "outputs": [],
   "source": []
  },
  {
   "cell_type": "markdown",
   "id": "1a616122-8a90-4a0c-a861-32a225717b30",
   "metadata": {},
   "source": [
    "### Predictions"
   ]
  },
  {
   "cell_type": "markdown",
   "id": "adf07554-bd0d-40a6-bf2f-c470e2333d67",
   "metadata": {},
   "source": [
    "#### Calculate the predictions"
   ]
  },
  {
   "cell_type": "code",
   "execution_count": null,
   "id": "aa6663e7-7d28-41b2-9e73-5a1f57e38b88",
   "metadata": {},
   "outputs": [],
   "source": []
  },
  {
   "cell_type": "markdown",
   "id": "14f61d65-e398-457d-b935-53e65a3d8291",
   "metadata": {},
   "source": [
    "#### Add them to the DataFrame"
   ]
  },
  {
   "cell_type": "code",
   "execution_count": null,
   "id": "755146bc-2410-45b6-b9f6-34fc9580cfac",
   "metadata": {},
   "outputs": [],
   "source": []
  },
  {
   "cell_type": "markdown",
   "id": "130cd1c2-3dbd-4c4c-a932-5327025d056a",
   "metadata": {},
   "source": [
    "### Model evaluation"
   ]
  },
  {
   "cell_type": "markdown",
   "id": "bffe1544-8db4-42dd-97ab-e23f16856a60",
   "metadata": {
    "tags": []
   },
   "source": [
    "#### Calculate the model's score"
   ]
  },
  {
   "cell_type": "code",
   "execution_count": null,
   "id": "2293b79f-c499-448c-ada1-3b83f0b51480",
   "metadata": {},
   "outputs": [],
   "source": []
  },
  {
   "cell_type": "markdown",
   "id": "eb93ac5a-c34a-4605-97a7-91daa2d73b4b",
   "metadata": {},
   "source": [
    "### Model Interpretation"
   ]
  },
  {
   "cell_type": "markdown",
   "id": "5e4e79f6-8829-4ff9-882e-9abaa77d4f03",
   "metadata": {
    "tags": []
   },
   "source": [
    "#### Visualize the model with the real data"
   ]
  },
  {
   "cell_type": "code",
   "execution_count": null,
   "id": "9a679f6d-f34e-47a8-93b4-a6be51c0ded0",
   "metadata": {},
   "outputs": [],
   "source": []
  },
  {
   "cell_type": "markdown",
   "id": "4f0a0b2f-68c3-41f7-a283-7761ae0d092b",
   "metadata": {},
   "source": [
    "#### Add the legend to the chart\n",
    "\n",
    "- Google may help"
   ]
  },
  {
   "cell_type": "code",
   "execution_count": null,
   "id": "9c38131a-48e8-473b-8088-4098b0278020",
   "metadata": {},
   "outputs": [],
   "source": []
  },
  {
   "cell_type": "markdown",
   "id": "a3cc88a5-4317-46f3-b596-259f96b3117c",
   "metadata": {},
   "source": [
    "#### Interpret the model's mathematical formula"
   ]
  },
  {
   "cell_type": "code",
   "execution_count": null,
   "id": "da8b857f-cfbd-41ee-a936-9e4cb9d5869c",
   "metadata": {},
   "outputs": [],
   "source": []
  },
  {
   "cell_type": "markdown",
   "id": "e981bd16-e90b-4899-83e2-c33ed673c998",
   "metadata": {},
   "source": [
    "## The Support Vector Machine ML Model\n",
    "\n",
    "Within `svm` module from `sklearn`"
   ]
  },
  {
   "cell_type": "markdown",
   "id": "6a3b2c56-f456-418e-bb3c-2f7c7279d6af",
   "metadata": {},
   "source": [
    "### Fit the model with the data"
   ]
  },
  {
   "cell_type": "code",
   "execution_count": null,
   "id": "29456e4f-011b-43ca-9f22-867bbf25f714",
   "metadata": {},
   "outputs": [],
   "source": []
  },
  {
   "cell_type": "markdown",
   "id": "f85c161f-6de8-4906-b7b3-5df3f1aa028d",
   "metadata": {},
   "source": [
    "### Predictions"
   ]
  },
  {
   "cell_type": "markdown",
   "id": "a92d05ad-75ce-47a6-b956-9d025115bd78",
   "metadata": {},
   "source": [
    "#### Calculate the predictions"
   ]
  },
  {
   "cell_type": "code",
   "execution_count": null,
   "id": "2338befc-b91d-49dc-9f99-04d48212930d",
   "metadata": {},
   "outputs": [],
   "source": []
  },
  {
   "cell_type": "markdown",
   "id": "911ce81b-8809-4e1f-a6c0-07a405c42c7b",
   "metadata": {},
   "source": [
    "#### Add them to the DataFrame"
   ]
  },
  {
   "cell_type": "code",
   "execution_count": null,
   "id": "279094ed-9239-4967-9e0f-90809e828e77",
   "metadata": {},
   "outputs": [],
   "source": []
  },
  {
   "cell_type": "markdown",
   "id": "cc4cad90-b5dd-489c-9cb6-750cad9d3421",
   "metadata": {},
   "source": [
    "### Model evaluation"
   ]
  },
  {
   "cell_type": "markdown",
   "id": "47b0879d-1818-40e6-b39e-9647eb78cf4b",
   "metadata": {},
   "source": [
    "#### Calculate the model's score"
   ]
  },
  {
   "cell_type": "code",
   "execution_count": null,
   "id": "65f0d033-1ef1-42c6-95b8-258a938417bd",
   "metadata": {},
   "outputs": [],
   "source": []
  },
  {
   "cell_type": "markdown",
   "id": "ee7508e7-0d94-4a4b-94ae-7131a54eb38c",
   "metadata": {},
   "source": [
    "### Model Interpretation"
   ]
  },
  {
   "cell_type": "markdown",
   "id": "6503df9e-133c-4226-8b5e-99d9ce794376",
   "metadata": {
    "tags": []
   },
   "source": [
    "#### Visualize the model with the real data"
   ]
  },
  {
   "cell_type": "code",
   "execution_count": null,
   "id": "0670943f-bf74-433b-bc1c-5cc4ee56ed02",
   "metadata": {},
   "outputs": [],
   "source": []
  },
  {
   "cell_type": "markdown",
   "id": "646ae2df-1536-4adf-b9e4-0c992b3d170a",
   "metadata": {},
   "source": [
    "#### Add the legend to the chart\n",
    "\n",
    "- Google may help"
   ]
  },
  {
   "cell_type": "code",
   "execution_count": null,
   "id": "936f3f6b-0abb-401f-9dd3-5e8e7955f6e6",
   "metadata": {},
   "outputs": [],
   "source": []
  },
  {
   "cell_type": "markdown",
   "id": "633a62a0-88bf-4396-be6a-4335eac7d915",
   "metadata": {},
   "source": [
    "#### Interpret the model's mathematical formula"
   ]
  },
  {
   "cell_type": "code",
   "execution_count": null,
   "id": "87c5f928-5779-4cf2-92b8-998dd42b97fe",
   "metadata": {},
   "outputs": [],
   "source": []
  },
  {
   "cell_type": "markdown",
   "id": "3c2f369e-d76e-41d6-8607-c3da62bc937c",
   "metadata": {},
   "source": [
    "## Choose the best model"
   ]
  },
  {
   "cell_type": "markdown",
   "id": "1c1d8e68-b047-49ed-847f-9bcca2fc8dad",
   "metadata": {},
   "source": [
    "### Visualize all models"
   ]
  },
  {
   "cell_type": "code",
   "execution_count": null,
   "id": "f6278cc1-4c09-40f3-9d83-1120de661123",
   "metadata": {},
   "outputs": [],
   "source": []
  },
  {
   "cell_type": "markdown",
   "id": "45aaa41c-c796-4589-92e7-c820111a1af4",
   "metadata": {
    "tags": []
   },
   "source": [
    "### Calculate the score"
   ]
  },
  {
   "cell_type": "code",
   "execution_count": null,
   "id": "e4c8eec6-d753-46cd-a243-8175d461e5f7",
   "metadata": {},
   "outputs": [],
   "source": []
  }
 ],
 "metadata": {
  "kernelspec": {
   "display_name": "Python 3 (ipykernel)",
   "language": "python",
   "name": "python3"
  },
  "language_info": {
   "codemirror_mode": {
    "name": "ipython",
    "version": 3
   },
   "file_extension": ".py",
   "mimetype": "text/x-python",
   "name": "python",
   "nbconvert_exporter": "python",
   "pygments_lexer": "ipython3",
   "version": "3.10.6"
  },
  "toc-autonumbering": true
 },
 "nbformat": 4,
 "nbformat_minor": 5
}
